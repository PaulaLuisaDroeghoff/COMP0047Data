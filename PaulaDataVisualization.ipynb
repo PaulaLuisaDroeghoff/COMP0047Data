{
 "cells": [
  {
   "cell_type": "code",
   "execution_count": 1,
   "metadata": {},
   "outputs": [],
   "source": [
    "import os\n",
    "import pathlib\n",
    "\n",
    "\n",
    "import matplotlib.pyplot as plt\n",
    "import pandas as pd \n",
    "import plotly.express as px\n",
    "import seaborn as sns\n",
    "\n",
    "pd.options.plotting.backend = \"plotly\"\n",
    "\n",
    "import warnings\n",
    "warnings.filterwarnings(\"ignore\")"
   ]
  },
  {
   "cell_type": "code",
   "execution_count": 3,
   "metadata": {},
   "outputs": [],
   "source": [
    "class color:\n",
    "   PURPLE = '\\033[95m'\n",
    "   CYAN = '\\033[96m'\n",
    "   DARKCYAN = '\\033[36m'\n",
    "   BLUE = '\\033[94m'\n",
    "   GREEN = '\\033[92m'\n",
    "   YELLOW = '\\033[93m'\n",
    "   RED = '\\033[91m'\n",
    "   BOLD = '\\033[1m'\n",
    "   UNDERLINE = '\\033[4m'\n",
    "   END = '\\033[0m'"
   ]
  },
  {
   "cell_type": "code",
   "execution_count": 4,
   "metadata": {},
   "outputs": [
    {
     "name": "stdout",
     "output_type": "stream",
     "text": [
      "\u001b[1mCurrent Date := 2022-04-01 00:00:00\u001b[0m\n",
      "\u001b[1m===================================\u001b[0m\n"
     ]
    }
   ],
   "source": [
    "current_date = pd.to_datetime(\"2022-04-01\")\n",
    "print(color.BOLD +  f\"Current Date := {current_date}\" + color.END)\n",
    "print(color.BOLD +  f\"===================================\" + color.END)"
   ]
  },
  {
   "cell_type": "markdown",
   "metadata": {},
   "source": [
    "Importing the complete merged dataset"
   ]
  },
  {
   "cell_type": "code",
   "execution_count": 6,
   "metadata": {},
   "outputs": [
    {
     "name": "stdout",
     "output_type": "stream",
     "text": [
      "Index(['ISIN', 'CUSIP', 'Ticker', 'Short_name_of_Issuer', 'Currency',\n",
      "       'Bid_Price', 'Mid_Price', 'Ask_Price', 'Bid_YTM', 'Mid_YTM', 'Ask_YTM',\n",
      "       'Bid_Ask_Price_Spread', 'Dirty_Bid_Price', 'Dirty_Mid_Price',\n",
      "       'Dirty_Ask_Price', 'Bid_Ask_Yield_Spread', 'Bid_Macaulay_Duration',\n",
      "       'Mid_Macaulay_Duration', 'Bid_Modified_Duration', 'Bid_Convexity',\n",
      "       'Mid_Convexity', 'Ask_Convexity', 'Mid_Z_Spread',\n",
      "       'Spread_vs_Benchmark_Bid', 'Spread_vs_Benchmark_Mid',\n",
      "       'Spread_vs_Benchmark_Ask', 'Tier', 'Coupon_Type', 'Defaulted',\n",
      "       'Perpetual', 'isCallable', 'Maturity', 'Liquidity_asof', 'id', 'cusip',\n",
      "       'instrumentRating.directionOfChange', 'instrumentRating.effectiveDate',\n",
      "       'instrumentRating.endDate', 'instrumentRating.outlook',\n",
      "       'instrumentRating.provider', 'instrumentRating.rating',\n",
      "       'instrumentRating.type', 'instrumentRating.watch', 'Return'],\n",
      "      dtype='object')\n"
     ]
    }
   ],
   "source": [
    "bond_data = pd.read_parquet(\n",
    "    \"/Users/pauladroghoff/Documents/UCL/COMP0047-Data Science/Coursework/COMP0047 Data/Bond_Pricing_With_Returns_And_Ratings.parquet\"\n",
    ")\n",
    "print(bond_data.columns)"
   ]
  }
 ],
 "metadata": {
  "kernelspec": {
   "display_name": "COMP0047_project",
   "language": "python",
   "name": "python3"
  },
  "language_info": {
   "codemirror_mode": {
    "name": "ipython",
    "version": 3
   },
   "file_extension": ".py",
   "mimetype": "text/x-python",
   "name": "python",
   "nbconvert_exporter": "python",
   "pygments_lexer": "ipython3",
   "version": "3.11.11"
  }
 },
 "nbformat": 4,
 "nbformat_minor": 2
}
